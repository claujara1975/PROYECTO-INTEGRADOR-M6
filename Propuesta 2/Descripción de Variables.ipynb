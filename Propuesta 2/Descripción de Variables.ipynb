{
 "cells": [
  {
   "cell_type": "markdown",
   "metadata": {},
   "source": [
    "### Descripción de Variables\n",
    "\n",
    "Hemos recibido un conjunto de datos que contiene información sobre los precios y características de diversos modelos de vehículos presentes en el mercado, junto con sus precios de venta al público.\n",
    "\n",
    "A continuación, se presenta el diccionario de datos, el cual detalla los nombres de las variables y proporciona una breve descripción de cada una para facilitar la comprensión de los datos que se analizarán.\n",
    "\n",
    "![DiccionarioDatos](https://github.com/jdeiloff/Proyecto-Integrador-M6/raw/main/dic_pi2.jpg)\n"
   ]
  }
 ],
 "metadata": {
  "language_info": {
   "name": "python"
  }
 },
 "nbformat": 4,
 "nbformat_minor": 2
}
